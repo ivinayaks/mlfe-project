{
 "cells": [
  {
   "cell_type": "code",
   "execution_count": 1,
   "id": "72ccbb2a",
   "metadata": {},
   "outputs": [],
   "source": [
    "import pandas as pd\n",
    "import numpy as np\n",
    "import warnings\n",
    "warnings.filterwarnings(\"ignore\")"
   ]
  },
  {
   "cell_type": "code",
   "execution_count": 2,
   "id": "fb4f68f7",
   "metadata": {
    "scrolled": true
   },
   "outputs": [],
   "source": [
    "df=pd.read_csv('loans50k.csv',encoding='latin-1')\n",
    "df.head()\n",
    "df.drop(columns=['totalPaid','loanID'],axis=1,inplace=True)"
   ]
  },
  {
   "cell_type": "code",
   "execution_count": 3,
   "id": "f290486e",
   "metadata": {},
   "outputs": [],
   "source": [
    "for i in range(len(df['status'])):\n",
    "    if((df['status'][i] in ['Fully Paid','Current'])==True):\n",
    "        df['status'][i]=1\n",
    "    else:\n",
    "        df['status'][i]=0\n",
    "df['status'] = df['status'].apply(pd.to_numeric)"
   ]
  },
  {
   "cell_type": "code",
   "execution_count": 4,
   "id": "8a79f87e",
   "metadata": {},
   "outputs": [
    {
     "name": "stdout",
     "output_type": "stream",
     "text": [
      "(50000, 30)\n",
      "(46714, 30)\n"
     ]
    }
   ],
   "source": [
    "print(df.shape)\n",
    "df.dropna(inplace=True)\n",
    "print(df.shape)"
   ]
  },
  {
   "cell_type": "code",
   "execution_count": 18,
   "id": "5281a900",
   "metadata": {},
   "outputs": [
    {
     "name": "stdout",
     "output_type": "stream",
     "text": [
      "['term', 'grade', 'employment', 'length', 'home', 'verified', 'reason', 'state']\n",
      "['amount', 'rate', 'payment', 'income', 'status', 'debtIncRat', 'delinq2yr', 'inq6mth', 'openAcc', 'pubRec', 'revolRatio', 'totalAcc', 'totalBal', 'totalRevLim', 'accOpen24', 'avgBal', 'bcOpen', 'bcRatio', 'totalLim', 'totalRevBal', 'totalBcLim', 'totalIlLim']\n"
     ]
    }
   ],
   "source": [
    "cat_columns=[]\n",
    "num_columns=[]\n",
    "for col in df.columns:\n",
    "    if(df[col].dtype not in (np.dtype(\"int64\"), np.dtype(\"float64\"))):\n",
    "       cat_columns.append(col)\n",
    "    else:\n",
    "       num_columns.append(col)\n",
    "       \n",
    "print(cat_columns)\n",
    "print(num_columns)"
   ]
  },
  {
   "cell_type": "code",
   "execution_count": 20,
   "id": "8b730eee",
   "metadata": {},
   "outputs": [],
   "source": [
    "y=df['status']\n",
    "df.drop(columns=['status'],axis=1,inplace=True)\n",
    "X=df.copy()"
   ]
  },
  {
   "cell_type": "code",
   "execution_count": 21,
   "id": "c8e1abe2",
   "metadata": {},
   "outputs": [],
   "source": [
    "X=pd.get_dummies(X,columns=cat_columns,sparse=True)"
   ]
  },
  {
   "cell_type": "code",
   "execution_count": 22,
   "id": "475d9b14",
   "metadata": {},
   "outputs": [],
   "source": [
    "from sklearn.model_selection import train_test_split\n",
    "X_train,X_test,y_train,y_test=train_test_split(X,y,test_size=0.2)"
   ]
  },
  {
   "cell_type": "code",
   "execution_count": 23,
   "id": "fafbfc89",
   "metadata": {},
   "outputs": [
    {
     "data": {
      "text/plain": [
       "LogisticRegression()"
      ]
     },
     "execution_count": 23,
     "metadata": {},
     "output_type": "execute_result"
    }
   ],
   "source": [
    "from sklearn.linear_model import LogisticRegression\n",
    "model=LogisticRegression()\n",
    "model.fit(X_train,y_train)\n"
   ]
  },
  {
   "cell_type": "code",
   "execution_count": 31,
   "id": "62761d14",
   "metadata": {},
   "outputs": [],
   "source": [
    "y_pred=model.predict_proba(X_test)[:,1]"
   ]
  },
  {
   "cell_type": "code",
   "execution_count": 33,
   "id": "1e121748",
   "metadata": {},
   "outputs": [
    {
     "data": {
      "text/plain": [
       "0.5852081888518909"
      ]
     },
     "execution_count": 33,
     "metadata": {},
     "output_type": "execute_result"
    }
   ],
   "source": [
    "from sklearn.metrics import roc_auc_score\n",
    "roc_auc_score(y_test,y_pred)"
   ]
  },
  {
   "cell_type": "code",
   "execution_count": 34,
   "id": "ca42ff2a",
   "metadata": {},
   "outputs": [
    {
     "data": {
      "text/plain": [
       "0.6761665381062544"
      ]
     },
     "execution_count": 34,
     "metadata": {},
     "output_type": "execute_result"
    }
   ],
   "source": [
    "from sklearn.ensemble import RandomForestClassifier\n",
    "model=RandomForestClassifier()\n",
    "model.fit(X_train,y_train)\n",
    "y_pred=model.predict_proba(X_test)[:,1]\n",
    "roc_auc_score(y_test,y_pred)\n"
   ]
  }
 ],
 "metadata": {
  "kernelspec": {
   "display_name": "Python 3 (ipykernel)",
   "language": "python",
   "name": "python3"
  },
  "language_info": {
   "codemirror_mode": {
    "name": "ipython",
    "version": 3
   },
   "file_extension": ".py",
   "mimetype": "text/x-python",
   "name": "python",
   "nbconvert_exporter": "python",
   "pygments_lexer": "ipython3",
   "version": "3.8.12"
  }
 },
 "nbformat": 4,
 "nbformat_minor": 5
}
